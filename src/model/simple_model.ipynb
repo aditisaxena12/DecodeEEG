{
 "cells": [
  {
   "cell_type": "markdown",
   "metadata": {},
   "source": [
    "### Create Model for Participant 1"
   ]
  },
  {
   "cell_type": "code",
   "execution_count": 2,
   "metadata": {},
   "outputs": [],
   "source": [
    "import os\n",
    "import numpy as np"
   ]
  },
  {
   "cell_type": "code",
   "execution_count": 3,
   "metadata": {},
   "outputs": [
    {
     "name": "stdout",
     "output_type": "stream",
     "text": [
      "(16540, 512, 7, 7)\n"
     ]
    }
   ],
   "source": [
    "# load all image vectors\n",
    "path_to_features = \"/home/aditis/decodingEEG/DecodeEEG/data/feature_vectors\"\n",
    "\n",
    "# Initialize an empty list to store the loaded arrays\n",
    "data = []\n",
    "\n",
    "classes = os.listdir(path_to_features+\"/training/\")\n",
    "\n",
    "for clas in classes:\n",
    "    feature_path  = path_to_features + \"/training/\" + clas\n",
    "    files = os.listdir(feature_path)\n",
    "    for file in files:\n",
    "        if file.endswith('.npy'):  # Ensure it's a .npy file\n",
    "            file_path = feature_path +\"/\"+ file\n",
    "            array = np.load(file_path)  # Load the .npy file\n",
    "            data.append(array)         # Append to the list\n",
    "\n",
    "    \n",
    "# Convert the list of arrays into a matrix\n",
    "feature_matrix = np.vstack(data)  # Stack arrays vertically\n",
    "\n",
    "# Verify the shape\n",
    "print(feature_matrix.shape)  # Output: (16540, 512)\n",
    "\n"
   ]
  },
  {
   "cell_type": "code",
   "execution_count": 51,
   "metadata": {},
   "outputs": [
    {
     "name": "stdout",
     "output_type": "stream",
     "text": [
      "Model: \"sequential_2\"\n",
      "_________________________________________________________________\n",
      " Layer (type)                Output Shape              Param #   \n",
      "=================================================================\n",
      " conv2d_6 (Conv2D)           (None, 17, 26, 32)        7520      \n",
      "                                                                 \n",
      " max_pooling2d_6 (MaxPooling  (None, 8, 13, 32)        0         \n",
      " 2D)                                                             \n",
      "                                                                 \n",
      " conv2d_7 (Conv2D)           (None, 8, 13, 64)         18496     \n",
      "                                                                 \n",
      " max_pooling2d_7 (MaxPooling  (None, 4, 6, 64)         0         \n",
      " 2D)                                                             \n",
      "                                                                 \n",
      " conv2d_8 (Conv2D)           (None, 4, 6, 128)         73856     \n",
      "                                                                 \n",
      " max_pooling2d_8 (MaxPooling  (None, 2, 3, 128)        0         \n",
      " 2D)                                                             \n",
      "                                                                 \n",
      " flatten_2 (Flatten)         (None, 768)               0         \n",
      "                                                                 \n",
      " dense_4 (Dense)             (None, 512)               393728    \n",
      "                                                                 \n",
      " dropout_2 (Dropout)         (None, 512)               0         \n",
      "                                                                 \n",
      " dense_5 (Dense)             (None, 512)               262656    \n",
      "                                                                 \n",
      "=================================================================\n",
      "Total params: 756,256\n",
      "Trainable params: 756,256\n",
      "Non-trainable params: 0\n",
      "_________________________________________________________________\n"
     ]
    }
   ],
   "source": [
    "# model architecture\n",
    "import numpy as np\n",
    "import tensorflow as tf\n",
    "from tensorflow.keras import layers, models\n",
    "from keras.utils.vis_utils import plot_model\n",
    "\n",
    "# Build the CNN model\n",
    "model = models.Sequential()\n",
    "\n",
    "# Input layer\n",
    "model.add(layers.InputLayer(input_shape=(17, 26, 26)))\n",
    "\n",
    "# Convolutional layers\n",
    "model.add(layers.Conv2D(32, (3, 3), activation='relu', padding='same'))  # 32 filters, kernel size 3x3\n",
    "model.add(layers.MaxPooling2D((2, 2)))  # Max pooling (2x2)\n",
    "\n",
    "model.add(layers.Conv2D(64, (3, 3), activation='relu', padding='same'))  # 64 filters, kernel size 3x3\n",
    "model.add(layers.MaxPooling2D((2, 2)))  # Max pooling (2x2)\n",
    "\n",
    "model.add(layers.Conv2D(128, (3, 3), activation='relu', padding='same'))  # 128 filters, kernel size 3x3\n",
    "model.add(layers.MaxPooling2D((2, 2)))  # Max pooling (2x2)\n",
    "\n",
    "# Flatten the output of the last convolutional layer\n",
    "model.add(layers.Flatten())\n",
    "\n",
    "# Dense layers to map to 512-dimensional feature vector\n",
    "model.add(layers.Dense(512, activation='relu'))  # Dense layer with 512 neurons\n",
    "model.add(layers.Dropout(0.3))  # Dropout for regularization\n",
    "model.add(layers.Dense(512, activation='linear'))  # Output layer with 512 neurons (regression task)\n",
    "\n",
    "# Compile the model\n",
    "model.compile(optimizer='adam', loss='mean_squared_error', metrics=['mae'])\n",
    "\n",
    "plot_model(model, to_file='model_plot.png', show_shapes=True, show_layer_names=True) \n",
    "\n",
    "# Summary of the model architecture\n",
    "model.summary()\n",
    "\n"
   ]
  },
  {
   "cell_type": "code",
   "execution_count": 32,
   "metadata": {},
   "outputs": [],
   "source": [
    "# function to convert eeg to spectrogram (17, 401, 75)\n",
    "from scipy.signal import ShortTimeFFT\n",
    "from scipy.signal.windows import gaussian\n",
    "\n",
    "def eeg_to_spectrogram(eeg):\n",
    "    \"\"\"\n",
    "    Converts a single EEG signal (17x100) into its spectrogram.\n",
    "    \"\"\"\n",
    "    g_std = 12  # standard deviation for Gaussian window in samples\n",
    "    M = 50 # window size\n",
    "    win = gaussian(M, std=g_std, sym=True)  # symmetric Gaussian window\n",
    "    T_x, N = 1 / 100, 100  # Sampling rate: 100 Hz, signal length: 100 samples\n",
    "    SFT = ShortTimeFFT(win, hop=2, fs=1/T_x,scale_to='psd')\n",
    "\n",
    "    # Calculate Spectrogram\n",
    "    Sx2 = SFT.spectrogram(eeg)  # shape: (17, ?, ?)\n",
    "    truncate_index = int(M/2)\n",
    "    print(truncate_index-1)\n",
    "    print(Sx2.shape[-1]-truncate_index)\n",
    "    return Sx2[:,:,truncate_index-1:Sx2.shape[-1]-truncate_index]"
   ]
  },
  {
   "cell_type": "code",
   "execution_count": 33,
   "metadata": {},
   "outputs": [
    {
     "name": "stdout",
     "output_type": "stream",
     "text": [
      "(16540, 4, 17, 100)\n",
      "24\n",
      "50\n"
     ]
    },
    {
     "data": {
      "text/plain": [
       "(17, 26, 26)"
      ]
     },
     "execution_count": 33,
     "metadata": {},
     "output_type": "execute_result"
    }
   ],
   "source": [
    "# Load eeg data\n",
    "path_to_eeg = \"/home/aditis/decodingEEG/DecodeEEG/data/PreprocessedEEG/sub-01\"\n",
    "data = np.load(path_to_eeg+'/preprocessed_eeg_training.npy', allow_pickle=True).item()\n",
    "eeg_data = data[\"preprocessed_eeg_data\"]\n",
    "print(eeg_data.shape)\n",
    "\n",
    "spec = eeg_to_spectrogram(eeg_data[0,0,:,:])\n",
    "spec.shape"
   ]
  },
  {
   "cell_type": "code",
   "execution_count": 47,
   "metadata": {},
   "outputs": [
    {
     "name": "stdout",
     "output_type": "stream",
     "text": [
      "Spectrogram dataset shape: (16540, 4, 17, 26, 26)\n"
     ]
    }
   ],
   "source": [
    "import h5py\n",
    "path_to_spec = \"/home/aditis/decodingEEG/DecodeEEG/data/spectrograms/sub-01/\"\n",
    "with h5py.File(path_to_spec+'spectrograms_train.h5', 'r') as f: \n",
    "    # Access the dataset\n",
    "    spectrograms = f['spectrograms']  # This is a reference to the dataset\n",
    "    print(f\"Spectrogram dataset shape: {spectrograms.shape}\")  # Example: (N, M, 17, 26, 26)\n"
   ]
  },
  {
   "cell_type": "code",
   "execution_count": 45,
   "metadata": {},
   "outputs": [],
   "source": [
    "def train_batch_generator(path_to_spectrograms, feature_matrix, batch_size=1654):\n",
    "    \"\"\"\n",
    "    Generator for training data batches.\n",
    "    Input : EEG data of one subject (16540 x 4 x 17 x 26 x 26), feature matrix of all images (16540 x 512)\n",
    "    Output : Batches of spectrograms (1654 x 17 x 401 x 75) and feature vectors (1654 x 512)\n",
    "    \"\"\"\n",
    "    with h5py.File(path_to_spectrograms+'spectrograms_train.h5', 'r') as f: \n",
    "        # Access the dataset\n",
    "        spectrograms = f['spectrograms']  # This is a reference to the dataset\n",
    "        num_samples = spectrograms.shape[0]\n",
    "\n",
    "        while True:  # Infinite loop to yield batches\n",
    "            for i in range(spectrograms.shape[1] - 1):  # Iterate over EEG sets (3 sets)\n",
    "                spec  = spectrograms[:, i, :, :]\n",
    "                for k in range(0, num_samples, batch_size):  # Iterate over chunks\n",
    "                    batch_end = min(k + batch_size, num_samples)  # Ensure no overflow\n",
    "                    spectro = spec[k:batch_end,:,:]\n",
    "                    features = feature_matrix[k:batch_end, :]\n",
    "                    yield (spectro, features)  # Yield the batch\n",
    "\n",
    "\n",
    "\n",
    "def validation_batch_generator(path_to_spectrograms, feature_matrix, batch_size=1654):\n",
    "    \"\"\"\n",
    "    Generator for validation data batches.\n",
    "    Input : EEG data of one subject (16540 x 4 x 17 x 26 x 26), feature matrix of all images (16540 x 512)\n",
    "    Output : Batches of spectrograms (1654 x 17 x 401 x 75) and feature vectors (1654 x 512)\n",
    "    \"\"\"\n",
    "    with h5py.File(path_to_spectrograms+'spectrograms_train.h5', 'r') as f: \n",
    "        # Access the dataset\n",
    "        spectrograms = f['spectrograms']  # This is a reference to the dataset\n",
    "        num_samples = spectrograms.shape[0]\n",
    "        spec  = spectrograms[:, 3, :, :]\n",
    "        while True:  # Infinite loop to yield batches\n",
    "            for k in range(0, num_samples, batch_size):  # Iterate over chunks\n",
    "                batch_end = min(k + batch_size, num_samples)  # Ensure no overflow\n",
    "                spectro = spec[k:batch_end,:,:]\n",
    "                features = feature_matrix[k:batch_end, :]\n",
    "                yield (spectro, features)  # Yield the batch\n",
    "\n"
   ]
  },
  {
   "cell_type": "code",
   "execution_count": 55,
   "metadata": {},
   "outputs": [
    {
     "name": "stdout",
     "output_type": "stream",
     "text": [
      "(20, 80, 17, 26, 26)\n",
      "(20, 80, 17, 26, 26)\n",
      "(20, 80, 17, 26, 26)\n",
      "(20, 80, 17, 26, 26)\n",
      "(20, 80, 17, 26, 26)\n",
      "(20, 80, 17, 26, 26)\n",
      "(20, 80, 17, 26, 26)\n",
      "(20, 80, 17, 26, 26)\n",
      "(20, 80, 17, 26, 26)\n",
      "(20, 80, 17, 26, 26)\n"
     ]
    }
   ],
   "source": [
    "# Define generator for spectrograms\n",
    "def test_batch_generator(path_to_spec, num_samples, batch_size=20):\n",
    "    with h5py.File(path_to_spec+'spectrograms_test.h5', 'r') as f: \n",
    "        spectrograms = f['spectrograms'] \n",
    "        for i in range(0, num_samples, batch_size):\n",
    "            spectro_batch = spectrograms[i:i+batch_size, :, :, :]\n",
    "            print(spectro_batch.shape)\n",
    "            #yield spectro_batch\n",
    "\n",
    "test_batch_generator(\"/home/aditis/decodingEEG/DecodeEEG/data/spectrograms/sub-01/\", 200)"
   ]
  },
  {
   "cell_type": "code",
   "execution_count": 52,
   "metadata": {},
   "outputs": [
    {
     "name": "stdout",
     "output_type": "stream",
     "text": [
      "Epoch 1/10\n",
      "30/30 [==============================] - 6s 183ms/step - loss: 2.5400 - mae: 0.7296 - val_loss: 1.1464 - val_mae: 0.6857\n",
      "Epoch 2/10\n",
      "30/30 [==============================] - 5s 160ms/step - loss: 0.9743 - mae: 0.6746 - val_loss: 0.7901 - val_mae: 0.6427\n",
      "Epoch 3/10\n",
      "30/30 [==============================] - 5s 161ms/step - loss: 0.8131 - mae: 0.6519 - val_loss: 0.7882 - val_mae: 0.6474\n",
      "Epoch 4/10\n",
      "30/30 [==============================] - 5s 159ms/step - loss: 0.8061 - mae: 0.6547 - val_loss: 0.7877 - val_mae: 0.6483\n",
      "Epoch 5/10\n",
      "30/30 [==============================] - 5s 158ms/step - loss: 0.8024 - mae: 0.6537 - val_loss: 0.7877 - val_mae: 0.6492\n",
      "Epoch 6/10\n",
      "30/30 [==============================] - 5s 160ms/step - loss: 0.8001 - mae: 0.6528 - val_loss: 0.7877 - val_mae: 0.6512\n",
      "Epoch 7/10\n",
      "30/30 [==============================] - 5s 159ms/step - loss: 0.7988 - mae: 0.6524 - val_loss: 0.7878 - val_mae: 0.6494\n",
      "Epoch 8/10\n",
      "30/30 [==============================] - 5s 160ms/step - loss: 0.7977 - mae: 0.6521 - val_loss: 0.7878 - val_mae: 0.6501\n",
      "Epoch 9/10\n",
      "30/30 [==============================] - 5s 159ms/step - loss: 0.7969 - mae: 0.6516 - val_loss: 0.7880 - val_mae: 0.6527\n",
      "Epoch 10/10\n",
      "30/30 [==============================] - 5s 160ms/step - loss: 0.7962 - mae: 0.6515 - val_loss: 0.7880 - val_mae: 0.6513\n"
     ]
    }
   ],
   "source": [
    "# Set parameters\n",
    "batch_size = 1654\n",
    "num_samples = eeg_data.shape[0]  # Total samples in dataset\n",
    "steps_per_epoch = num_samples * 3 // batch_size  # 3 EEG sets for training\n",
    "validation_steps = num_samples // batch_size    # 1 EEG set for validation\n",
    "nb_epoch = 10\n",
    "path_to_specs = \"/home/aditis/decodingEEG/DecodeEEG/data/spectrograms/sub-01/\"\n",
    "# Train the model\n",
    "model.fit(\n",
    "    train_batch_generator(path_to_specs, feature_matrix, batch_size=batch_size),\n",
    "    epochs=nb_epoch,\n",
    "    steps_per_epoch=steps_per_epoch,\n",
    "    verbose=1,\n",
    "    validation_data=validation_batch_generator(path_to_specs, feature_matrix, batch_size=batch_size),\n",
    "    validation_steps=validation_steps\n",
    ")\n",
    "\n",
    "# Save the model\n",
    "model.save(\"/home/aditis/decodingEEG/DecodeEEG/data/simple_model_weights/eeg_to_feature_vector_model.h5\")\n"
   ]
  }
 ],
 "metadata": {
  "kernelspec": {
   "display_name": "Python 3 (ipykernel)",
   "language": "python",
   "name": "python3"
  },
  "language_info": {
   "codemirror_mode": {
    "name": "ipython",
    "version": 3
   },
   "file_extension": ".py",
   "mimetype": "text/x-python",
   "name": "python",
   "nbconvert_exporter": "python",
   "pygments_lexer": "ipython3",
   "version": "3.10.12"
  }
 },
 "nbformat": 4,
 "nbformat_minor": 2
}
