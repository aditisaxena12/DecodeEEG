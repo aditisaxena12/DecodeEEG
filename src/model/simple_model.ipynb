{
 "cells": [
  {
   "cell_type": "markdown",
   "metadata": {},
   "source": [
    "### Create Model for Participant 1"
   ]
  },
  {
   "cell_type": "code",
   "execution_count": 4,
   "metadata": {},
   "outputs": [],
   "source": [
    "import os\n",
    "import numpy as np"
   ]
  },
  {
   "cell_type": "code",
   "execution_count": 5,
   "metadata": {},
   "outputs": [
    {
     "name": "stdout",
     "output_type": "stream",
     "text": [
      "(16540, 512)\n"
     ]
    }
   ],
   "source": [
    "# load all image vectors\n",
    "path_to_features = \"/home/aditis/decodingEEG/DecodeEEG/data/feature_vectors\"\n",
    "\n",
    "# Initialize an empty list to store the loaded arrays\n",
    "data = []\n",
    "\n",
    "classes = os.listdir(path_to_features+\"/training/\")\n",
    "\n",
    "for clas in classes:\n",
    "    feature_path  = path_to_features + \"/training/\" + clas\n",
    "    files = os.listdir(feature_path)\n",
    "    for file in files:\n",
    "        if file.endswith('.npy'):  # Ensure it's a .npy file\n",
    "            file_path = feature_path +\"/\"+ file\n",
    "            array = np.load(file_path)  # Load the .npy file\n",
    "            data.append(array)         # Append to the list\n",
    "\n",
    "    \n",
    "# Convert the list of arrays into a matrix\n",
    "feature_matrix = np.vstack(data)  # Stack arrays vertically\n",
    "\n",
    "# Verify the shape\n",
    "print(feature_matrix.shape)  # Output: (16540, 512)\n",
    "\n"
   ]
  },
  {
   "cell_type": "code",
   "execution_count": 6,
   "metadata": {},
   "outputs": [],
   "source": [
    "# function to convert eeg to spectrogram (17, 401, 75)\n",
    "from scipy.signal import ShortTimeFFT\n",
    "from scipy.signal.windows import gaussian\n",
    "def eeg_to_spectrogram(eeg):\n",
    "    \"\"\"\n",
    "    Converts a single EEG signal (17x100) into its spectrogram.\n",
    "    \"\"\"\n",
    "    g_std = 12  # standard deviation for Gaussian window in samples\n",
    "    win = gaussian(50, std=g_std, sym=True)  # symmetric Gaussian window\n",
    "    T_x, N = 1 / 100, 100  # Sampling rate: 100 Hz, signal length: 100 samples\n",
    "    SFT = ShortTimeFFT(win, hop=2, fs=1/T_x, mfft=800, scale_to='psd')\n",
    "\n",
    "    # Calculate Spectrogram\n",
    "    Sx2 = SFT.spectrogram(eeg)  # shape: (17, ?, ?)\n",
    "    return Sx2"
   ]
  },
  {
   "cell_type": "code",
   "execution_count": 1,
   "metadata": {},
   "outputs": [
    {
     "name": "stderr",
     "output_type": "stream",
     "text": [
      "2024-12-12 16:55:44.697903: I tensorflow/core/platform/cpu_feature_guard.cc:193] This TensorFlow binary is optimized with oneAPI Deep Neural Network Library (oneDNN) to use the following CPU instructions in performance-critical operations:  AVX2 AVX_VNNI FMA\n",
      "To enable them in other operations, rebuild TensorFlow with the appropriate compiler flags.\n",
      "2024-12-12 16:55:44.891387: I tensorflow/core/util/port.cc:104] oneDNN custom operations are on. You may see slightly different numerical results due to floating-point round-off errors from different computation orders. To turn them off, set the environment variable `TF_ENABLE_ONEDNN_OPTS=0`.\n",
      "2024-12-12 16:55:44.924465: W tensorflow/compiler/xla/stream_executor/platform/default/dso_loader.cc:64] Could not load dynamic library 'libcudart.so.11.0'; dlerror: libcudart.so.11.0: cannot open shared object file: No such file or directory\n",
      "2024-12-12 16:55:44.924478: I tensorflow/compiler/xla/stream_executor/cuda/cudart_stub.cc:29] Ignore above cudart dlerror if you do not have a GPU set up on your machine.\n",
      "2024-12-12 16:55:45.552869: W tensorflow/compiler/xla/stream_executor/platform/default/dso_loader.cc:64] Could not load dynamic library 'libnvinfer.so.7'; dlerror: libnvinfer.so.7: cannot open shared object file: No such file or directory\n",
      "2024-12-12 16:55:45.552918: W tensorflow/compiler/xla/stream_executor/platform/default/dso_loader.cc:64] Could not load dynamic library 'libnvinfer_plugin.so.7'; dlerror: libnvinfer_plugin.so.7: cannot open shared object file: No such file or directory\n",
      "2024-12-12 16:55:45.552921: W tensorflow/compiler/tf2tensorrt/utils/py_utils.cc:38] TF-TRT Warning: Cannot dlopen some TensorRT libraries. If you would like to use Nvidia GPU with TensorRT, please make sure the missing libraries mentioned above are installed properly.\n"
     ]
    },
    {
     "name": "stdout",
     "output_type": "stream",
     "text": [
      "Model: \"sequential\"\n",
      "_________________________________________________________________\n",
      " Layer (type)                Output Shape              Param #   \n",
      "=================================================================\n",
      " conv2d (Conv2D)             (None, 17, 401, 32)       21632     \n",
      "                                                                 \n",
      " max_pooling2d (MaxPooling2D  (None, 8, 200, 32)       0         \n",
      " )                                                               \n",
      "                                                                 \n",
      " conv2d_1 (Conv2D)           (None, 8, 200, 64)        18496     \n",
      "                                                                 \n",
      " max_pooling2d_1 (MaxPooling  (None, 4, 100, 64)       0         \n",
      " 2D)                                                             \n",
      "                                                                 \n",
      " conv2d_2 (Conv2D)           (None, 4, 100, 128)       73856     \n",
      "                                                                 \n",
      " max_pooling2d_2 (MaxPooling  (None, 2, 50, 128)       0         \n",
      " 2D)                                                             \n",
      "                                                                 \n",
      " flatten (Flatten)           (None, 12800)             0         \n",
      "                                                                 \n",
      " dense (Dense)               (None, 512)               6554112   \n",
      "                                                                 \n",
      " dropout (Dropout)           (None, 512)               0         \n",
      "                                                                 \n",
      " dense_1 (Dense)             (None, 512)               262656    \n",
      "                                                                 \n",
      "=================================================================\n",
      "Total params: 6,930,752\n",
      "Trainable params: 6,930,752\n",
      "Non-trainable params: 0\n",
      "_________________________________________________________________\n"
     ]
    },
    {
     "name": "stderr",
     "output_type": "stream",
     "text": [
      "2024-12-12 16:55:46.212800: I tensorflow/compiler/xla/stream_executor/cuda/cuda_gpu_executor.cc:981] successful NUMA node read from SysFS had negative value (-1), but there must be at least one NUMA node, so returning NUMA node zero\n",
      "2024-12-12 16:55:46.212955: W tensorflow/compiler/xla/stream_executor/platform/default/dso_loader.cc:64] Could not load dynamic library 'libcudart.so.11.0'; dlerror: libcudart.so.11.0: cannot open shared object file: No such file or directory\n",
      "2024-12-12 16:55:46.212999: W tensorflow/compiler/xla/stream_executor/platform/default/dso_loader.cc:64] Could not load dynamic library 'libcublas.so.11'; dlerror: libcublas.so.11: cannot open shared object file: No such file or directory\n",
      "2024-12-12 16:55:46.213025: W tensorflow/compiler/xla/stream_executor/platform/default/dso_loader.cc:64] Could not load dynamic library 'libcublasLt.so.11'; dlerror: libcublasLt.so.11: cannot open shared object file: No such file or directory\n",
      "2024-12-12 16:55:46.213054: W tensorflow/compiler/xla/stream_executor/platform/default/dso_loader.cc:64] Could not load dynamic library 'libcufft.so.10'; dlerror: libcufft.so.10: cannot open shared object file: No such file or directory\n",
      "2024-12-12 16:55:46.345040: W tensorflow/compiler/xla/stream_executor/platform/default/dso_loader.cc:64] Could not load dynamic library 'libcusparse.so.11'; dlerror: libcusparse.so.11: cannot open shared object file: No such file or directory\n",
      "2024-12-12 16:55:46.345155: W tensorflow/compiler/xla/stream_executor/platform/default/dso_loader.cc:64] Could not load dynamic library 'libcudnn.so.8'; dlerror: libcudnn.so.8: cannot open shared object file: No such file or directory\n",
      "2024-12-12 16:55:46.345172: W tensorflow/core/common_runtime/gpu/gpu_device.cc:1934] Cannot dlopen some GPU libraries. Please make sure the missing libraries mentioned above are installed properly if you would like to use GPU. Follow the guide at https://www.tensorflow.org/install/gpu for how to download and setup the required libraries for your platform.\n",
      "Skipping registering GPU devices...\n",
      "2024-12-12 16:55:46.346808: I tensorflow/core/platform/cpu_feature_guard.cc:193] This TensorFlow binary is optimized with oneAPI Deep Neural Network Library (oneDNN) to use the following CPU instructions in performance-critical operations:  AVX2 AVX_VNNI FMA\n",
      "To enable them in other operations, rebuild TensorFlow with the appropriate compiler flags.\n"
     ]
    }
   ],
   "source": [
    "# model architecture\n",
    "import numpy as np\n",
    "import tensorflow as tf\n",
    "from tensorflow.keras import layers, models\n",
    "\n",
    "# Build the CNN model\n",
    "model = models.Sequential()\n",
    "\n",
    "# Input layer\n",
    "model.add(layers.InputLayer(input_shape=(17, 401, 75)))\n",
    "\n",
    "# Convolutional layers\n",
    "model.add(layers.Conv2D(32, (3, 3), activation='relu', padding='same'))  # 32 filters, kernel size 3x3\n",
    "model.add(layers.MaxPooling2D((2, 2)))  # Max pooling (2x2)\n",
    "\n",
    "model.add(layers.Conv2D(64, (3, 3), activation='relu', padding='same'))  # 64 filters, kernel size 3x3\n",
    "model.add(layers.MaxPooling2D((2, 2)))  # Max pooling (2x2)\n",
    "\n",
    "model.add(layers.Conv2D(128, (3, 3), activation='relu', padding='same'))  # 128 filters, kernel size 3x3\n",
    "model.add(layers.MaxPooling2D((2, 2)))  # Max pooling (2x2)\n",
    "\n",
    "# Flatten the output of the last convolutional layer\n",
    "model.add(layers.Flatten())\n",
    "\n",
    "# Dense layers to map to 512-dimensional feature vector\n",
    "model.add(layers.Dense(512, activation='relu'))  # Dense layer with 512 neurons\n",
    "model.add(layers.Dropout(0.3))  # Dropout for regularization\n",
    "model.add(layers.Dense(512, activation='linear'))  # Output layer with 512 neurons (regression task)\n",
    "\n",
    "# Compile the model\n",
    "model.compile(optimizer='adam', loss='mean_squared_error', metrics=['mae'])\n",
    "\n",
    "# Summary of the model architecture\n",
    "model.summary()\n",
    "\n"
   ]
  },
  {
   "cell_type": "code",
   "execution_count": 2,
   "metadata": {},
   "outputs": [
    {
     "data": {
      "text/plain": [
       "(16540, 4, 17, 100)"
      ]
     },
     "execution_count": 2,
     "metadata": {},
     "output_type": "execute_result"
    }
   ],
   "source": [
    "# Load eeg data\n",
    "path_to_eeg = \"/home/aditis/decodingEEG/DecodeEEG/data/PreprocessedEEG/sub-01\"\n",
    "data = np.load(path_to_eeg+'/preprocessed_eeg_training.npy', allow_pickle=True).item()\n",
    "eeg_data = data[\"preprocessed_eeg_data\"]\n",
    "eeg_data.shape"
   ]
  },
  {
   "cell_type": "code",
   "execution_count": 17,
   "metadata": {},
   "outputs": [],
   "source": [
    "def train_batch_generator(eeg_data, feature_matrix, batch_size=1654):\n",
    "    \"\"\"\n",
    "    Generator for training data batches.\n",
    "    \"\"\"\n",
    "    num_samples = eeg_data.shape[0]\n",
    "\n",
    "    while True:  # Infinite loop to yield batches\n",
    "        for i in range(eeg_data.shape[1] - 1):  # Iterate over EEG sets (3 sets)\n",
    "            eeg = eeg_data[:, i, :, :]\n",
    "            for k in range(0, num_samples, batch_size):  # Iterate over chunks\n",
    "                spectro = []\n",
    "                batch_end = min(k + batch_size, num_samples)  # Ensure no overflow\n",
    "                for j in range(k, batch_end):\n",
    "                    Sx2 = eeg_to_spectrogram(eeg[j, :, :])  # Spectrogram calculation\n",
    "                    spectro.append(Sx2)\n",
    "                \n",
    "                spectro = np.stack(spectro)\n",
    "                features = feature_matrix[k:batch_end, :]\n",
    "                yield (spectro, features)  # Yield the batch\n",
    "\n",
    "\n",
    "def validation_batch_generator(eeg_data, feature_matrix, batch_size=1654):\n",
    "    \"\"\"\n",
    "    Generator for validation data batches.\n",
    "    \"\"\"\n",
    "    num_samples = eeg_data.shape[0]\n",
    "    eeg = eeg_data[:, 3, :, :]  # Use the 4th set for validation\n",
    "\n",
    "    while True:  # Infinite loop to yield batches\n",
    "        for k in range(0, num_samples, batch_size):  # Iterate over chunks\n",
    "            spectro = []\n",
    "            batch_end = min(k + batch_size, num_samples)  # Ensure no overflow\n",
    "            for j in range(k, batch_end):\n",
    "                Sx2 = eeg_to_spectrogram(eeg[j, :, :])  # Spectrogram calculation\n",
    "                spectro.append(Sx2)\n",
    "            \n",
    "            spectro = np.stack(spectro)\n",
    "            features = feature_matrix[k:batch_end, :]\n",
    "            yield (spectro, features)  # Yield the batch\n",
    "\n",
    " "
   ]
  },
  {
   "cell_type": "code",
   "execution_count": null,
   "metadata": {},
   "outputs": [
    {
     "name": "stdout",
     "output_type": "stream",
     "text": [
      "Epoch 1/10\n",
      "30/30 [==============================] - 511s 17s/step - loss: 1.0174 - mae: 0.6983 - val_loss: 0.7972 - val_mae: 0.6728\n",
      "Epoch 2/10\n",
      "30/30 [==============================] - 509s 17s/step - loss: 0.8163 - mae: 0.6560 - val_loss: 0.7894 - val_mae: 0.6484\n",
      "Epoch 3/10\n",
      "30/30 [==============================] - ETA: 0s - loss: 0.8044 - mae: 0.6529 "
     ]
    }
   ],
   "source": [
    "# Set parameters\n",
    "batch_size = 1654\n",
    "num_samples = eeg_data.shape[0]  # Total samples in dataset\n",
    "steps_per_epoch = num_samples * 3 // batch_size  # 3 EEG sets for training\n",
    "validation_steps = num_samples // batch_size    # 1 EEG set for validation\n",
    "nb_epoch = 10\n",
    "\n",
    "# Train the model\n",
    "model.fit(\n",
    "    train_batch_generator(eeg_data, feature_matrix, batch_size=batch_size),\n",
    "    epochs=nb_epoch,\n",
    "    steps_per_epoch=steps_per_epoch,\n",
    "    verbose=1,\n",
    "    validation_data=validation_batch_generator(eeg_data, feature_matrix, batch_size=batch_size),\n",
    "    validation_steps=validation_steps\n",
    ")\n",
    "\n",
    "# Save the model\n",
    "model.save(\"/home/aditis/decodingEEG/DecodeEEG/data/simple_model_weights/eeg_to_feature_vector_model.h5\")\n"
   ]
  }
 ],
 "metadata": {
  "kernelspec": {
   "display_name": "Python 3 (ipykernel)",
   "language": "python",
   "name": "python3"
  },
  "language_info": {
   "codemirror_mode": {
    "name": "ipython",
    "version": 3
   },
   "file_extension": ".py",
   "mimetype": "text/x-python",
   "name": "python",
   "nbconvert_exporter": "python",
   "pygments_lexer": "ipython3",
   "version": "3.10.12"
  }
 },
 "nbformat": 4,
 "nbformat_minor": 2
}
